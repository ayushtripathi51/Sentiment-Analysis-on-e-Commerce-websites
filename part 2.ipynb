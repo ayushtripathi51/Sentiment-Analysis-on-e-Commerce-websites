{
 "cells": [
  {
   "cell_type": "code",
   "execution_count": 8,
   "metadata": {
    "collapsed": true
   },
   "outputs": [],
   "source": [
    "import pandas as pd\n",
    "from pandas import DataFrame\n",
    "import numpy as np\n",
    "import re\n",
    "import string"
   ]
  },
  {
   "cell_type": "code",
   "execution_count": 2,
   "metadata": {
    "collapsed": true
   },
   "outputs": [],
   "source": [
    "df_data = pd.read_csv('C:\\\\Users\\\\Ayush\\\\Desktop\\\\ecommercetweets.csv', sep=',', header=None)"
   ]
  },
  {
   "cell_type": "code",
   "execution_count": 3,
   "metadata": {
    "collapsed": true
   },
   "outputs": [],
   "source": [
    "df_data2=[]\n",
    "for index,i in df_data.iterrows():\n",
    "    if(pd.notnull(i[0])):\n",
    "        df_data2.append({'id':i[0],'text':i[1],'source':i[2],'created_at':i[3]})\n",
    "df_data3=DataFrame(columns=('id', 'text','source','created_at'))\n",
    "df_data3=df_data3.append(df_data2)\n",
    "\n",
    "#number of rows initially were 50622\n",
    "#after removal should be 50615\n",
    "\n"
   ]
  },
  {
   "cell_type": "code",
   "execution_count": 5,
   "metadata": {
    "scrolled": false
   },
   "outputs": [],
   "source": [
    "df1=[]\n",
    "j=0\n",
    "for index,i in df_data3.iterrows():\n",
    "    try:\n",
    "        if((re.match(\"^(.)*(Amazon|ebay|Jabong|jabong|amazon|Flipkart|flipkart|Myntra|myntra)+(.)*\",i[1])) or (re.match(\"^(.)*(Amazon|ebay|Jabong|jabong|amazon|Flipkart|flipkart|Myntra|myntra)+(.)*\",i[2]))):\n",
    "            #print(df_data.loc[i])\n",
    "            df1.append({'id':i[0],'text':i[1],'source':i[2],'created_at':i[3]})\n",
    "            j+=1\n",
    "    except Exception as e:\n",
    "        print(e)\n",
    "        #print(i)\n",
    "df=DataFrame(columns=('id', 'text','source','created_at'))\n",
    "df=df.append(df1)\n"
   ]
  },
  {
   "cell_type": "code",
   "execution_count": 6,
   "metadata": {},
   "outputs": [
    {
     "data": {
      "text/plain": [
       "21535"
      ]
     },
     "execution_count": 6,
     "metadata": {},
     "output_type": "execute_result"
    }
   ],
   "source": [
    "len(df)"
   ]
  },
  {
   "cell_type": "code",
   "execution_count": 7,
   "metadata": {
    "collapsed": true
   },
   "outputs": [],
   "source": [
    "df.to_csv(\"C:\\\\Users\\\\Ayush\\\\Desktop\\\\MINING1.csv\")"
   ]
  },
  {
   "cell_type": "code",
   "execution_count": 148,
   "metadata": {},
   "outputs": [
    {
     "name": "stdout",
     "output_type": "stream",
     "text": [
      "amazon -> 19709\n",
      "flipkart -> 599\n",
      "myntra -> 21\n",
      "ebay -> 1201\n",
      "jabong -> 5\n"
     ]
    }
   ],
   "source": [
    "#finding number of amazon/ebay/jabong/myntra/flipkart tweets\n",
    "amazon=0\n",
    "ebay=0\n",
    "jabong=0\n",
    "flipkart=0\n",
    "myntra=0\n",
    "for index,i in df.iterrows():\n",
    "    if((re.match(\"^(.)*(Amazon|amazon)+(.)*\",i[1])) or (re.match(\"^(.)*(Amazon|amazon)+(.)*\",i[2]))):\n",
    "        amazon+=1\n",
    "    elif((re.match(\"^(.)*(Myntra|myntra)+(.)*\",i[1])) or (re.match(\"^(.)*(Myntra|myntra)+(.)*\",i[2]))):\n",
    "        myntra+=1\n",
    "    elif((re.match(\"^(.)*(Flipkart|flipkart)+(.)*\",i[1])) or (re.match(\"^(.)*(Flipkart|flipkart)+(.)*\",i[2]))):\n",
    "        flipkart+=1\n",
    "    elif((re.match(\"^(.)*(Jabong|jabong)+(.)*\",i[1])) or (re.match(\"^(.)*(Jabong|jabong)+(.)*\",i[2]))):\n",
    "        jabong+=1\n",
    "    else:\n",
    "        ebay+=1\n",
    "print(\"amazon ->\",amazon)\n",
    "print(\"flipkart ->\",flipkart)\n",
    "print(\"myntra ->\",myntra)\n",
    "print(\"ebay ->\",ebay)\n",
    "print(\"jabong ->\",jabong)\n",
    "\n",
    "    "
   ]
  },
  {
   "cell_type": "code",
   "execution_count": null,
   "metadata": {
    "collapsed": true
   },
   "outputs": [],
   "source": []
  }
 ],
 "metadata": {
  "kernelspec": {
   "display_name": "Python 3",
   "language": "python",
   "name": "python3"
  },
  "language_info": {
   "codemirror_mode": {
    "name": "ipython",
    "version": 3
   },
   "file_extension": ".py",
   "mimetype": "text/x-python",
   "name": "python",
   "nbconvert_exporter": "python",
   "pygments_lexer": "ipython3",
   "version": "3.6.1"
  }
 },
 "nbformat": 4,
 "nbformat_minor": 2
}
